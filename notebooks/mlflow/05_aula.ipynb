{
 "cells": [
  {
   "cell_type": "markdown",
   "metadata": {},
   "source": [
    "# Registar um pipeline no mlflow\n",
    "\n",
    "Um pipeline não é mais que a composição de vários modelos/transformações"
   ]
  },
  {
   "cell_type": "code",
   "execution_count": 1,
   "metadata": {},
   "outputs": [],
   "source": [
    "import mlflow"
   ]
  },
  {
   "cell_type": "code",
   "execution_count": null,
   "metadata": {},
   "outputs": [],
   "source": [
    "import pandas as pd\n",
    "from sklearn.preprocessing import StandardScaler\n",
    "from sklearn.metrics import accuracy_score\n",
    "from sklearn.linear_model import LogisticRegression\n",
    "from sklearn.pipeline import Pipeline"
   ]
  },
  {
   "cell_type": "code",
   "execution_count": null,
   "metadata": {},
   "outputs": [],
   "source": [
    "ROOT_PATH = '../../data/'\n",
    "SEED = 42\n",
    "TARGET_COL = \"Outcome\""
   ]
  },
  {
   "cell_type": "markdown",
   "metadata": {},
   "source": [
    "## Definir a diretoria onde as experiências são guardadas"
   ]
  },
  {
   "cell_type": "code",
   "execution_count": null,
   "metadata": {},
   "outputs": [],
   "source": [
    "from pathlib import Path\n",
    "\n",
    "uri = \"../../mlruns\"\n",
    "\n",
    "Path(uri).mkdir(parents=True, exist_ok=True)\n",
    "\n",
    "mlflow.set_tracking_uri(uri)"
   ]
  },
  {
   "cell_type": "markdown",
   "metadata": {},
   "source": [
    "## Fazer set da experiência \"Diabetes Prediction Experiment\""
   ]
  },
  {
   "cell_type": "code",
   "execution_count": null,
   "metadata": {},
   "outputs": [],
   "source": [
    "mlflow.set_experiment(\"Diabetes Prediction Experiment\")"
   ]
  },
  {
   "cell_type": "markdown",
   "metadata": {},
   "source": [
    "## Criar os datasets"
   ]
  },
  {
   "cell_type": "code",
   "execution_count": null,
   "metadata": {},
   "outputs": [],
   "source": [
    "train_path = ROOT_PATH + 'diabetes_train.csv'\n",
    "test_path = ROOT_PATH + 'diabetes_test.csv'\n",
    "\n",
    "train_set = pd.read_csv(train_path)\n",
    "test_set = pd.read_csv(test_path)\n",
    "\n",
    "X_train = train_set.drop([TARGET_COL], axis = 1)\n",
    "y_train = train_set[TARGET_COL]\n",
    "\n",
    "X_test = test_set.drop([TARGET_COL], axis = 1)\n",
    "y_test = test_set[TARGET_COL]\n",
    "\n",
    "X_train.head()"
   ]
  },
  {
   "cell_type": "markdown",
   "metadata": {},
   "source": [
    "## Criar uma run"
   ]
  },
  {
   "cell_type": "code",
   "execution_count": null,
   "metadata": {},
   "outputs": [],
   "source": [
    "run = mlflow.start_run(run_name=\"Linear Regression Run - C0.1 - pipeline\")\n",
    "RUN_ID = run.info.run_uuid\n",
    "RUN_ID"
   ]
  },
  {
   "cell_type": "markdown",
   "metadata": {},
   "source": [
    "## Guardar datasets, modelos, artefactos, métricas e parametros da run"
   ]
  },
  {
   "cell_type": "code",
   "execution_count": null,
   "metadata": {},
   "outputs": [],
   "source": [
    "# guardarmos o dataset de treino e de teste associado à run\n",
    "train_dataset = mlflow.data.from_pandas(train_set, source=train_path, targets=TARGET_COL, name=\"Diabetes Train Dataset\")\n",
    "test_dataset = mlflow.data.from_pandas(test_set, source=test_path, targets=TARGET_COL, name=\"Diabetes Test Dataset\")\n",
    "mlflow.log_input(train_dataset, context=\"train\")\n",
    "mlflow.log_input(test_dataset, context=\"test\")\n",
    "\n",
    "# Guardamos a seed utilizado como parametro\n",
    "mlflow.log_param(\"seed\", SEED)"
   ]
  },
  {
   "cell_type": "code",
   "execution_count": null,
   "metadata": {
    "id": "6MzRYWGj0WLx"
   },
   "outputs": [],
   "source": [
    "from sklearn.ensemble import RandomForestClassifier\n",
    "\n",
    "rf_pipeline = Pipeline(\n",
    "    steps=[\n",
    "        (\"scaler\", StandardScaler()),  # Normaliza os dados\n",
    "        (\"random_forest\", RandomForestClassifier(random_state=SEED, n_estimators=100))\n",
    "    ]\n",
    ")\n",
    "\n",
    "# Treinar o modelo\n",
    "rf_pipeline.fit(X_train, y_train)\n",
    "\n",
    "# Logar o modelo no MLflow\n",
    "mlflow.sklearn.log_model(rf_pipeline, artifact_path=\"rf_pipeline\", registered_model_name=\"random_forest\")\n",
    "\n",
    "rf_pipeline"
   ]
  },
  {
   "cell_type": "code",
   "execution_count": null,
   "metadata": {},
   "outputs": [],
   "source": [
    "params=rf_pipeline.get_params()\n",
    "\n",
    "modified_params = {}\n",
    "for k, v in params.items():\n",
    "    new_key = k.replace(\"Random_Forest__\", '')\n",
    "    modified_params[new_key] = v\n",
    "\n",
    "mlflow.log_params(modified_params)\n",
    "modified_params"
   ]
  },
  {
   "cell_type": "code",
   "execution_count": null,
   "metadata": {},
   "outputs": [],
   "source": [
    "y_preds = rf_pipeline.predict(X_test)\n",
    "acc = accuracy_score(y_test, y_preds)\n",
    "mlflow.log_metric(\"accuracy\", acc)\n",
    "acc"
   ]
  },
  {
   "cell_type": "markdown",
   "metadata": {},
   "source": [
    "## Terminar a run"
   ]
  },
  {
   "cell_type": "code",
   "execution_count": null,
   "metadata": {},
   "outputs": [],
   "source": [
    "mlflow.end_run()"
   ]
  },
  {
   "cell_type": "markdown",
   "metadata": {},
   "source": [
    "## Consultar uma run já concluida"
   ]
  },
  {
   "cell_type": "code",
   "execution_count": null,
   "metadata": {},
   "outputs": [],
   "source": [
    "run = mlflow.get_run(RUN_ID)"
   ]
  },
  {
   "cell_type": "code",
   "execution_count": null,
   "metadata": {},
   "outputs": [],
   "source": [
    "run.data"
   ]
  },
  {
   "cell_type": "markdown",
   "metadata": {},
   "source": [
    "## Ver a experiência na UI do mlflow"
   ]
  },
  {
   "attachments": {},
   "cell_type": "markdown",
   "metadata": {},
   "source": [
    "A UI do mlflow permite ver de forma visual todas as experiências criadas e permite por exemplo, comparar, filtar e ordenar, as runs dentro de uma experiência de forma visual.\n",
    "\n",
    "Para correr a UI do mflow é necessário executar, na raiz deste projeto (pasta rumos) e tendo activo o ambiente utilizado neste projeto, o comando:\n",
    "\n",
    "`mlflow ui --backend-store-uri ./mlruns`\n",
    "\n",
    "**Nota:** O comando em cima irá iniciar a UI de mlflow na porta 5000. Caso queiram mudar esta porta devem acrescentar `--port <PORT>` ao comando (em que <PORT> deve ser substituido pela porta desejada). \n",
    "\n",
    "O comando acima não irá funcionar caso tenham tido alguns problemas no Windows com a instalação do mlflow. Caso tenham problemas, considerem instalar o `mlflow-ui`, ao invés do mlflow.\n",
    "\n",
    "Após executarem este comando, vão poder ver a UI do mlflow no vosso browser acedendo a \n",
    "\n",
    "`http://127.0.0.1:5000`\n",
    "\n",
    "(se tiverem alterado a porta em que o mlflow UI é iniciado então devem de alterar também aqui o 5000 por essa porta)\n",
    "\n",
    "Na tab de `Experiments` podem explorar as experiências e runs que criaram."
   ]
  },
  {
   "cell_type": "markdown",
   "metadata": {},
   "source": []
  },
  {
   "cell_type": "code",
   "execution_count": 2,
   "metadata": {},
   "outputs": [],
   "source": [
    "import requests\n",
    "import pandas as pd"
   ]
  },
  {
   "cell_type": "code",
   "execution_count": 3,
   "metadata": {},
   "outputs": [],
   "source": [
    "# Ler os dados\n",
    "data_path = '../../data/diabetes_test.csv'\n",
    "df = pd.read_csv(data_path)"
   ]
  },
  {
   "cell_type": "code",
   "execution_count": 4,
   "metadata": {},
   "outputs": [],
   "source": [
    "# vamos usar uma linha aleatória do dataframe apenas para ter um exemplo de input\n",
    "input_df = df.sample(10)"
   ]
  },
  {
   "cell_type": "code",
   "execution_count": 5,
   "metadata": {},
   "outputs": [
    {
     "data": {
      "text/html": [
       "<div>\n",
       "<style scoped>\n",
       "    .dataframe tbody tr th:only-of-type {\n",
       "        vertical-align: middle;\n",
       "    }\n",
       "\n",
       "    .dataframe tbody tr th {\n",
       "        vertical-align: top;\n",
       "    }\n",
       "\n",
       "    .dataframe thead th {\n",
       "        text-align: right;\n",
       "    }\n",
       "</style>\n",
       "<table border=\"1\" class=\"dataframe\">\n",
       "  <thead>\n",
       "    <tr style=\"text-align: right;\">\n",
       "      <th></th>\n",
       "      <th>Pregnancies</th>\n",
       "      <th>Glucose</th>\n",
       "      <th>BloodPressure</th>\n",
       "      <th>SkinThickness</th>\n",
       "      <th>Insulin</th>\n",
       "      <th>BMI</th>\n",
       "      <th>DiabetesPedigreeFunction</th>\n",
       "      <th>Age</th>\n",
       "      <th>Outcome</th>\n",
       "    </tr>\n",
       "  </thead>\n",
       "  <tbody>\n",
       "    <tr>\n",
       "      <th>43</th>\n",
       "      <td>5</td>\n",
       "      <td>112</td>\n",
       "      <td>66</td>\n",
       "      <td>0</td>\n",
       "      <td>0</td>\n",
       "      <td>37.8</td>\n",
       "      <td>0.261</td>\n",
       "      <td>41</td>\n",
       "      <td>1</td>\n",
       "    </tr>\n",
       "    <tr>\n",
       "      <th>88</th>\n",
       "      <td>2</td>\n",
       "      <td>197</td>\n",
       "      <td>70</td>\n",
       "      <td>99</td>\n",
       "      <td>0</td>\n",
       "      <td>34.7</td>\n",
       "      <td>0.575</td>\n",
       "      <td>62</td>\n",
       "      <td>1</td>\n",
       "    </tr>\n",
       "    <tr>\n",
       "      <th>64</th>\n",
       "      <td>3</td>\n",
       "      <td>162</td>\n",
       "      <td>52</td>\n",
       "      <td>38</td>\n",
       "      <td>0</td>\n",
       "      <td>37.2</td>\n",
       "      <td>0.652</td>\n",
       "      <td>24</td>\n",
       "      <td>1</td>\n",
       "    </tr>\n",
       "    <tr>\n",
       "      <th>86</th>\n",
       "      <td>0</td>\n",
       "      <td>177</td>\n",
       "      <td>60</td>\n",
       "      <td>29</td>\n",
       "      <td>478</td>\n",
       "      <td>34.6</td>\n",
       "      <td>1.072</td>\n",
       "      <td>21</td>\n",
       "      <td>1</td>\n",
       "    </tr>\n",
       "    <tr>\n",
       "      <th>4</th>\n",
       "      <td>3</td>\n",
       "      <td>87</td>\n",
       "      <td>60</td>\n",
       "      <td>18</td>\n",
       "      <td>0</td>\n",
       "      <td>21.8</td>\n",
       "      <td>0.444</td>\n",
       "      <td>21</td>\n",
       "      <td>0</td>\n",
       "    </tr>\n",
       "    <tr>\n",
       "      <th>19</th>\n",
       "      <td>3</td>\n",
       "      <td>191</td>\n",
       "      <td>68</td>\n",
       "      <td>15</td>\n",
       "      <td>130</td>\n",
       "      <td>30.9</td>\n",
       "      <td>0.299</td>\n",
       "      <td>34</td>\n",
       "      <td>0</td>\n",
       "    </tr>\n",
       "    <tr>\n",
       "      <th>56</th>\n",
       "      <td>0</td>\n",
       "      <td>84</td>\n",
       "      <td>64</td>\n",
       "      <td>22</td>\n",
       "      <td>66</td>\n",
       "      <td>35.8</td>\n",
       "      <td>0.545</td>\n",
       "      <td>21</td>\n",
       "      <td>0</td>\n",
       "    </tr>\n",
       "    <tr>\n",
       "      <th>10</th>\n",
       "      <td>0</td>\n",
       "      <td>141</td>\n",
       "      <td>84</td>\n",
       "      <td>26</td>\n",
       "      <td>0</td>\n",
       "      <td>32.4</td>\n",
       "      <td>0.433</td>\n",
       "      <td>22</td>\n",
       "      <td>0</td>\n",
       "    </tr>\n",
       "    <tr>\n",
       "      <th>113</th>\n",
       "      <td>2</td>\n",
       "      <td>93</td>\n",
       "      <td>64</td>\n",
       "      <td>32</td>\n",
       "      <td>160</td>\n",
       "      <td>38.0</td>\n",
       "      <td>0.674</td>\n",
       "      <td>23</td>\n",
       "      <td>1</td>\n",
       "    </tr>\n",
       "    <tr>\n",
       "      <th>34</th>\n",
       "      <td>10</td>\n",
       "      <td>168</td>\n",
       "      <td>74</td>\n",
       "      <td>0</td>\n",
       "      <td>0</td>\n",
       "      <td>38.0</td>\n",
       "      <td>0.537</td>\n",
       "      <td>34</td>\n",
       "      <td>1</td>\n",
       "    </tr>\n",
       "  </tbody>\n",
       "</table>\n",
       "</div>"
      ],
      "text/plain": [
       "     Pregnancies  Glucose  BloodPressure  SkinThickness  Insulin   BMI  \\\n",
       "43             5      112             66              0        0  37.8   \n",
       "88             2      197             70             99        0  34.7   \n",
       "64             3      162             52             38        0  37.2   \n",
       "86             0      177             60             29      478  34.6   \n",
       "4              3       87             60             18        0  21.8   \n",
       "19             3      191             68             15      130  30.9   \n",
       "56             0       84             64             22       66  35.8   \n",
       "10             0      141             84             26        0  32.4   \n",
       "113            2       93             64             32      160  38.0   \n",
       "34            10      168             74              0        0  38.0   \n",
       "\n",
       "     DiabetesPedigreeFunction  Age  Outcome  \n",
       "43                      0.261   41        1  \n",
       "88                      0.575   62        1  \n",
       "64                      0.652   24        1  \n",
       "86                      1.072   21        1  \n",
       "4                       0.444   21        0  \n",
       "19                      0.299   34        0  \n",
       "56                      0.545   21        0  \n",
       "10                      0.433   22        0  \n",
       "113                     0.674   23        1  \n",
       "34                      0.537   34        1  "
      ]
     },
     "execution_count": 5,
     "metadata": {},
     "output_type": "execute_result"
    }
   ],
   "source": [
    "input_df"
   ]
  },
  {
   "cell_type": "code",
   "execution_count": 6,
   "metadata": {},
   "outputs": [
    {
     "data": {
      "text/html": [
       "<div>\n",
       "<style scoped>\n",
       "    .dataframe tbody tr th:only-of-type {\n",
       "        vertical-align: middle;\n",
       "    }\n",
       "\n",
       "    .dataframe tbody tr th {\n",
       "        vertical-align: top;\n",
       "    }\n",
       "\n",
       "    .dataframe thead th {\n",
       "        text-align: right;\n",
       "    }\n",
       "</style>\n",
       "<table border=\"1\" class=\"dataframe\">\n",
       "  <thead>\n",
       "    <tr style=\"text-align: right;\">\n",
       "      <th></th>\n",
       "      <th>Pregnancies</th>\n",
       "      <th>Glucose</th>\n",
       "      <th>BloodPressure</th>\n",
       "      <th>SkinThickness</th>\n",
       "      <th>Insulin</th>\n",
       "      <th>BMI</th>\n",
       "      <th>DiabetesPedigreeFunction</th>\n",
       "      <th>Age</th>\n",
       "    </tr>\n",
       "  </thead>\n",
       "  <tbody>\n",
       "    <tr>\n",
       "      <th>43</th>\n",
       "      <td>5</td>\n",
       "      <td>112</td>\n",
       "      <td>66</td>\n",
       "      <td>0</td>\n",
       "      <td>0</td>\n",
       "      <td>37.8</td>\n",
       "      <td>0.261</td>\n",
       "      <td>41</td>\n",
       "    </tr>\n",
       "    <tr>\n",
       "      <th>88</th>\n",
       "      <td>2</td>\n",
       "      <td>197</td>\n",
       "      <td>70</td>\n",
       "      <td>99</td>\n",
       "      <td>0</td>\n",
       "      <td>34.7</td>\n",
       "      <td>0.575</td>\n",
       "      <td>62</td>\n",
       "    </tr>\n",
       "    <tr>\n",
       "      <th>64</th>\n",
       "      <td>3</td>\n",
       "      <td>162</td>\n",
       "      <td>52</td>\n",
       "      <td>38</td>\n",
       "      <td>0</td>\n",
       "      <td>37.2</td>\n",
       "      <td>0.652</td>\n",
       "      <td>24</td>\n",
       "    </tr>\n",
       "    <tr>\n",
       "      <th>86</th>\n",
       "      <td>0</td>\n",
       "      <td>177</td>\n",
       "      <td>60</td>\n",
       "      <td>29</td>\n",
       "      <td>478</td>\n",
       "      <td>34.6</td>\n",
       "      <td>1.072</td>\n",
       "      <td>21</td>\n",
       "    </tr>\n",
       "    <tr>\n",
       "      <th>4</th>\n",
       "      <td>3</td>\n",
       "      <td>87</td>\n",
       "      <td>60</td>\n",
       "      <td>18</td>\n",
       "      <td>0</td>\n",
       "      <td>21.8</td>\n",
       "      <td>0.444</td>\n",
       "      <td>21</td>\n",
       "    </tr>\n",
       "    <tr>\n",
       "      <th>19</th>\n",
       "      <td>3</td>\n",
       "      <td>191</td>\n",
       "      <td>68</td>\n",
       "      <td>15</td>\n",
       "      <td>130</td>\n",
       "      <td>30.9</td>\n",
       "      <td>0.299</td>\n",
       "      <td>34</td>\n",
       "    </tr>\n",
       "    <tr>\n",
       "      <th>56</th>\n",
       "      <td>0</td>\n",
       "      <td>84</td>\n",
       "      <td>64</td>\n",
       "      <td>22</td>\n",
       "      <td>66</td>\n",
       "      <td>35.8</td>\n",
       "      <td>0.545</td>\n",
       "      <td>21</td>\n",
       "    </tr>\n",
       "    <tr>\n",
       "      <th>10</th>\n",
       "      <td>0</td>\n",
       "      <td>141</td>\n",
       "      <td>84</td>\n",
       "      <td>26</td>\n",
       "      <td>0</td>\n",
       "      <td>32.4</td>\n",
       "      <td>0.433</td>\n",
       "      <td>22</td>\n",
       "    </tr>\n",
       "    <tr>\n",
       "      <th>113</th>\n",
       "      <td>2</td>\n",
       "      <td>93</td>\n",
       "      <td>64</td>\n",
       "      <td>32</td>\n",
       "      <td>160</td>\n",
       "      <td>38.0</td>\n",
       "      <td>0.674</td>\n",
       "      <td>23</td>\n",
       "    </tr>\n",
       "    <tr>\n",
       "      <th>34</th>\n",
       "      <td>10</td>\n",
       "      <td>168</td>\n",
       "      <td>74</td>\n",
       "      <td>0</td>\n",
       "      <td>0</td>\n",
       "      <td>38.0</td>\n",
       "      <td>0.537</td>\n",
       "      <td>34</td>\n",
       "    </tr>\n",
       "  </tbody>\n",
       "</table>\n",
       "</div>"
      ],
      "text/plain": [
       "     Pregnancies  Glucose  BloodPressure  SkinThickness  Insulin   BMI  \\\n",
       "43             5      112             66              0        0  37.8   \n",
       "88             2      197             70             99        0  34.7   \n",
       "64             3      162             52             38        0  37.2   \n",
       "86             0      177             60             29      478  34.6   \n",
       "4              3       87             60             18        0  21.8   \n",
       "19             3      191             68             15      130  30.9   \n",
       "56             0       84             64             22       66  35.8   \n",
       "10             0      141             84             26        0  32.4   \n",
       "113            2       93             64             32      160  38.0   \n",
       "34            10      168             74              0        0  38.0   \n",
       "\n",
       "     DiabetesPedigreeFunction  Age  \n",
       "43                      0.261   41  \n",
       "88                      0.575   62  \n",
       "64                      0.652   24  \n",
       "86                      1.072   21  \n",
       "4                       0.444   21  \n",
       "19                      0.299   34  \n",
       "56                      0.545   21  \n",
       "10                      0.433   22  \n",
       "113                     0.674   23  \n",
       "34                      0.537   34  "
      ]
     },
     "execution_count": 6,
     "metadata": {},
     "output_type": "execute_result"
    }
   ],
   "source": [
    "# retiramos o target (Outcome) dos dados, para termos o input que o nosso modelo está à espera \n",
    "input_data = input_df.drop(\"Outcome\", axis=1)\n",
    "input_data"
   ]
  },
  {
   "cell_type": "code",
   "execution_count": 7,
   "metadata": {},
   "outputs": [],
   "source": [
    "# devemos ir à UI do mlflow, À model registry, perceber qual é o input de dados esperado\n",
    "records = input_data.to_dict(orient=\"records\")"
   ]
  },
  {
   "cell_type": "code",
   "execution_count": 8,
   "metadata": {},
   "outputs": [
    {
     "data": {
      "text/plain": [
       "[{'Pregnancies': 5,\n",
       "  'Glucose': 112,\n",
       "  'BloodPressure': 66,\n",
       "  'SkinThickness': 0,\n",
       "  'Insulin': 0,\n",
       "  'BMI': 37.8,\n",
       "  'DiabetesPedigreeFunction': 0.261,\n",
       "  'Age': 41},\n",
       " {'Pregnancies': 2,\n",
       "  'Glucose': 197,\n",
       "  'BloodPressure': 70,\n",
       "  'SkinThickness': 99,\n",
       "  'Insulin': 0,\n",
       "  'BMI': 34.7,\n",
       "  'DiabetesPedigreeFunction': 0.575,\n",
       "  'Age': 62},\n",
       " {'Pregnancies': 3,\n",
       "  'Glucose': 162,\n",
       "  'BloodPressure': 52,\n",
       "  'SkinThickness': 38,\n",
       "  'Insulin': 0,\n",
       "  'BMI': 37.2,\n",
       "  'DiabetesPedigreeFunction': 0.652,\n",
       "  'Age': 24},\n",
       " {'Pregnancies': 0,\n",
       "  'Glucose': 177,\n",
       "  'BloodPressure': 60,\n",
       "  'SkinThickness': 29,\n",
       "  'Insulin': 478,\n",
       "  'BMI': 34.6,\n",
       "  'DiabetesPedigreeFunction': 1.072,\n",
       "  'Age': 21},\n",
       " {'Pregnancies': 3,\n",
       "  'Glucose': 87,\n",
       "  'BloodPressure': 60,\n",
       "  'SkinThickness': 18,\n",
       "  'Insulin': 0,\n",
       "  'BMI': 21.8,\n",
       "  'DiabetesPedigreeFunction': 0.444,\n",
       "  'Age': 21},\n",
       " {'Pregnancies': 3,\n",
       "  'Glucose': 191,\n",
       "  'BloodPressure': 68,\n",
       "  'SkinThickness': 15,\n",
       "  'Insulin': 130,\n",
       "  'BMI': 30.9,\n",
       "  'DiabetesPedigreeFunction': 0.299,\n",
       "  'Age': 34},\n",
       " {'Pregnancies': 0,\n",
       "  'Glucose': 84,\n",
       "  'BloodPressure': 64,\n",
       "  'SkinThickness': 22,\n",
       "  'Insulin': 66,\n",
       "  'BMI': 35.8,\n",
       "  'DiabetesPedigreeFunction': 0.545,\n",
       "  'Age': 21},\n",
       " {'Pregnancies': 0,\n",
       "  'Glucose': 141,\n",
       "  'BloodPressure': 84,\n",
       "  'SkinThickness': 26,\n",
       "  'Insulin': 0,\n",
       "  'BMI': 32.4,\n",
       "  'DiabetesPedigreeFunction': 0.433,\n",
       "  'Age': 22},\n",
       " {'Pregnancies': 2,\n",
       "  'Glucose': 93,\n",
       "  'BloodPressure': 64,\n",
       "  'SkinThickness': 32,\n",
       "  'Insulin': 160,\n",
       "  'BMI': 38.0,\n",
       "  'DiabetesPedigreeFunction': 0.674,\n",
       "  'Age': 23},\n",
       " {'Pregnancies': 10,\n",
       "  'Glucose': 168,\n",
       "  'BloodPressure': 74,\n",
       "  'SkinThickness': 0,\n",
       "  'Insulin': 0,\n",
       "  'BMI': 38.0,\n",
       "  'DiabetesPedigreeFunction': 0.537,\n",
       "  'Age': 34}]"
      ]
     },
     "execution_count": 8,
     "metadata": {},
     "output_type": "execute_result"
    }
   ],
   "source": [
    "records"
   ]
  },
  {
   "cell_type": "code",
   "execution_count": 11,
   "metadata": {},
   "outputs": [
    {
     "data": {
      "text/plain": [
       "{'predictions': [1, 1, 1, 1, 0, 1, 0, 0, 0, 1]}"
      ]
     },
     "execution_count": 11,
     "metadata": {},
     "output_type": "execute_result"
    }
   ],
   "source": [
    "response = requests.post(\"http://127.0.0.1:5001//invocations\", json={\"dataframe_records\": records})\n",
    "response.json()"
   ]
  },
  {
   "cell_type": "code",
   "execution_count": null,
   "metadata": {},
   "outputs": [],
   "source": [
    "import fastapi\n",
    "from fastapi.middleware.cors import CORSMiddleware\n",
    "\n",
    "import mlflow\n",
    "from pydantic import BaseModel, conint\n",
    "import pandas as pd\n",
    "import json\n",
    "import uvicorn"
   ]
  }
 ],
 "metadata": {
  "kernelspec": {
   "display_name": "OML01",
   "language": "python",
   "name": "python3"
  },
  "language_info": {
   "codemirror_mode": {
    "name": "ipython",
    "version": 3
   },
   "file_extension": ".py",
   "mimetype": "text/x-python",
   "name": "python",
   "nbconvert_exporter": "python",
   "pygments_lexer": "ipython3",
   "version": "3.12.9"
  }
 },
 "nbformat": 4,
 "nbformat_minor": 4
}
